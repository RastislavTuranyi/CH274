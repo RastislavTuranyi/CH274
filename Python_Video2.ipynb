{
 "cells": [
  {
   "cell_type": "markdown",
   "metadata": {},
   "source": [
    "<div class=\"alert alert-block alert-info\">\n",
    "    \n",
    "These blue boxes contain instructions for you to follow, or stuff for you to do\n",
    "<h2>How to access this Jupyter notebook</h2>\n",
    "\n",
    "* <b>Step 1</b>: Open a web browser,  and go to [this page](https://jupyter.warwick.ac.uk/module/CH274), \n",
    "* <b>Step 2</b>: Enter your SCRTP username and password and press the \"Start Server\" button.<br>\n",
    "* <b>Step 3</b>: Wait (it could take a few minutes) until the blue box says \"Jupyter notebook server running!\". At that point, click on the weblink below said message.<br>\n",
    "* <b>Step 4</b>: Select the Jupyter Notebook you want to work on. <i>Remember to make a copy of the orginal notebook</i> (which is read-only). To do so, in the toolbar on top of the notebook, select File and then Make a Copy <br>\n",
    "* <b>Step 5</b>: You're all set! <br>\n",
    "* <b>Step 6</b>: <font color=\"red\">When you are done, remember to click the \"Stop Server\" button in the launcher web browser tab.</font> Please do, it's really quite important. <br>\n",
    "<b> Remember: </b> You can access your copy of the Notebook at any time from any device off and on campus by going through the same steps on e.g. your laptop - all the changes you have made will be saved and synced! <br>\n",
    "\n",
    "<div/>"
   ]
  },
  {
   "cell_type": "markdown",
   "metadata": {},
   "source": [
    "# CH274: Computational Workshop\n",
    "## Using a Hückel MO code to study Polyaromatic Hydrocarbons (PAHs)\n",
    "\n",
    "In this workshop, we are going to\n",
    "* see how a Huckel/tight-binding Python code works\n",
    "* apply this code to study the stability and reactivity of three different polyaromatic hydrocarbons, namely:\n",
    "<img src=\"STUFF/3mols.png\">\n",
    "\n",
    "These three molecules are PAH molecules, which are created from incomplete combustion in cars, industrial exhaust, and soot. They are known potent carcinogens. All three have the same number of sp2 hybridised carbon atoms (22) and we can compare them directly with Hückel theory.\n",
    "\n",
    "\n"
   ]
  },
  {
   "cell_type": "markdown",
   "metadata": {},
   "source": [
    "\n",
    "Based on the contents of this workshop, you will be given a homework assignment, which you will be able to access in the Assignments Tab.\n"
   ]
  },
  {
   "cell_type": "markdown",
   "metadata": {},
   "source": [
    "## Part 1: Setting up the input data\n",
    "\n",
    "We will first set up our input data for the three molecules. The code will require the respective Hückel matrices as input. \n",
    "A Hückel matrix is basically nothing more than a connectivity matrix. The connectivity matrix tells us which carbon atoms are connected to each other. If atoms are bonded, the matrix element is -1, if they are non-bonded, the matrix element has a 0.\n",
    "\n",
    "The following cell reads the required information for the three molecules from a database of more than 500 PAHs and then prints the connectivity matrices and the Lewis formulas."
   ]
  },
  {
   "cell_type": "code",
   "execution_count": null,
   "metadata": {
    "ExecuteTime": {
     "end_time": "2020-01-21T14:53:14.142065Z",
     "start_time": "2020-01-21T14:53:08.617590Z"
    },
    "scrolled": false
   },
   "outputs": [],
   "source": [
    "from rdkit import Chem #RDKIT is a useful package for drawing molecules and operating on them\n",
    "import rdkit.Chem.Draw\n",
    "from rdkit.Chem import AllChem\n",
    "#functions that operate on the PAH database\n",
    "from PAH_data import select_molecule, matprint, mol_with_atom_index, draw_molecule, draw_MO\n",
    "import matplotlib.pyplot as plt\n",
    "\n",
    "#######################\n",
    "#list of molecule names\n",
    "names = [\n",
    "    'Indeno[1,2,3-cd]fluoranthene',\n",
    "    'Dibenzo[cd,jk]pyrene',\n",
    "    'Indeno[1,2,3-cd]pyrene',\n",
    "]\n",
    "molecules = []\n",
    "rdkit_objects = []\n",
    "#this selects the molecules from the database of 500 PAHs, transforms it into an rdkit 'molecule object'\n",
    "for i in range(3):\n",
    "    mol, mol_object = select_molecule(names[i])\n",
    "    molecules.append(mol)\n",
    "    rdkit_objects.append(mol_object)\n",
    "\n",
    "#These rdkit objects are stored in the 'molecules' list. \n",
    "#Together with other things, they contain the connectivity matrices\n",
    "\n",
    "#####The following is all the information you will need\n",
    "\n",
    "#list of  connnectivity/huckel matrices for three molecules\n",
    "conmats = [(molecules[0])['conmat'], molecules[1]['conmat'], molecules[2]['conmat']]\n",
    "#list of three molecule names\n",
    "names = names\n",
    "#list of three RDKIT molecule objects for visualization\n",
    "molecules = rdkit_objects\n",
    "\n",
    "################Visualization\n",
    "\n",
    "#The RDKIT molecule objects can be used for visualization\n",
    "#display molecule 1\n",
    "draw_molecule(molecules[0], legend=names[0])\n",
    "\n",
    "#display molecule 1 with numbering\n",
    "draw_molecule(mol_with_atom_index(molecules[0]), legend=names[0])\n",
    "#print the connectivity matrix for molecule 1\n",
    "matprint(conmats[0])\n",
    "\n",
    "#molecule 2\n",
    "draw_molecule(mol_with_atom_index(molecules[1]), legend=names[1])\n",
    "matprint(conmats[1]) # print matrix for mol 2\n",
    "\n",
    "#molecule 3\n",
    "draw_molecule(mol_with_atom_index(molecules[2]), legend=names[2])\n",
    "matprint(conmats[2]) # print matrix for mol 3\n",
    "#This line generates the picture of the three molecules\n"
   ]
  },
  {
   "cell_type": "markdown",
   "metadata": {},
   "source": [
    "<div class=\"alert alert-block alert-info\">\n",
    "\n",
    "<b> Task 1: Use the following text cell to make notes and answer following questions:</b><br>\n",
    "\n",
    "<ul>\n",
    "<li> Verify that the connectivity matrices are correct and that they are consistent with the provided atom numbering.</li>\n",
    "<li> Are the three molecules alternant or non-alternant? </li>\n",
    "\n",
    "</ul>\n",
    "\n",
    "</div>"
   ]
  },
  {
   "cell_type": "markdown",
   "metadata": {},
   "source": [
    "#### Answers to Task 1:\n",
    "\n",
    "INSERT YOUR ANSWER HERE\n",
    "\n"
   ]
  },
  {
   "cell_type": "markdown",
   "metadata": {},
   "source": [
    " We can consider the connectivity matrices to be Hückel matrices, where we have set\n",
    "$$\\alpha=\\langle \\phi_i|H|\\phi_i\\rangle = 0 $$\n",
    "and \n",
    "$$\\beta=\\langle \\phi_i|H|\\phi_j\\rangle = -1 $$\n",
    "\n",
    "<div class=\"alert alert-success\">\n",
    "**NOTE**: Because we have set $\\beta=-1$, our energies will be numbers that already reflect the correct energy ordering. Therefore, we do not have to consider the implicit fact that $\\beta<0$ in $2\\beta$ ie. the lower the number, the more stable the energy level. We have to use actual numbers, as we cannot use variables $\\alpha,\\beta$ in a numerical code.\n",
    "</div>"
   ]
  },
  {
   "cell_type": "markdown",
   "metadata": {},
   "source": [
    "## Part 2: How to use the Hückel code\n",
    "\n",
    "\n",
    "The code we will use is called ```shmo``` and is documented here:\n",
    "https://github.com/randlet/SHMO\n",
    "\n",
    "Let's learn how to use the code with the example of Acenaphthalene.\n",
    "We first pull the Hückel matrix of Acenaphthalene from the database and then initialise the HuckelSolver with it."
   ]
  },
  {
   "cell_type": "markdown",
   "metadata": {},
   "source": [
    "<div class=\"alert alert-block alert-info\">\n",
    "\n",
    "<b> Task 2:</b> Explore the Hückel SHMO module<br>\n",
    "\n",
    "</div>"
   ]
  },
  {
   "cell_type": "code",
   "execution_count": null,
   "metadata": {},
   "outputs": [],
   "source": [
    "import numpy as np\n",
    "import shmo"
   ]
  },
  {
   "cell_type": "code",
   "execution_count": null,
   "metadata": {},
   "outputs": [],
   "source": [
    "#select Acenaphthalene\n",
    "mol, rdkit_mol = select_molecule('Acenaphthalene') # this function returns the molecule data and the rdkit object to visualise\n",
    "\n",
    "#get hueckel matrix\n",
    "huckel_matrix = mol['conmat']\n",
    "\n",
    "#draw molecule from rdkit mol object\n",
    "draw_molecule(rdkit_mol, legend=[\"Acenaphthalene\"])\n",
    "#print hueckel matrix\n",
    "matprint(huckel_matrix)"
   ]
  },
  {
   "cell_type": "code",
   "execution_count": null,
   "metadata": {},
   "outputs": [],
   "source": [
    "#initialise hueckel solver with previously created huckel_matrix\n",
    "solver = shmo.HuckelSolver(data=huckel_matrix)\n",
    "##NOTE!: Each time you change the molecule, you need to reinitialise the Huckel solver, \n",
    "#ie. call the above line with a new huckel matrix! This is really important."
   ]
  },
  {
   "cell_type": "markdown",
   "metadata": {},
   "source": [
    "Now that the Hückel solver is initialised, we can calculate a lot of different properties.\n",
    "If you want to find out about all the different properties you can calculate, try the following:\n",
    "\n",
    "Use the next code cell to type:\n",
    "```\n",
    "solver.\n",
    "```\n",
    "\n",
    "\n",
    "and then press the tab key. This will give you a drop-down list of all possible functions you can access with\n",
    "\n",
    "```\n",
    "solver.<functionname>\n",
    "```\n",
    "\n",
    "As usual, placing a question mark behind the function, will tell you what it does."
   ]
  },
  {
   "cell_type": "code",
   "execution_count": null,
   "metadata": {},
   "outputs": [],
   "source": [
    "#YOUR CODE HERE\n",
    "#\n",
    "\n"
   ]
  },
  {
   "cell_type": "code",
   "execution_count": null,
   "metadata": {},
   "outputs": [],
   "source": [
    "#Let's print the MO energies\n",
    "print(solver.energies)\n",
    "\n",
    "#Plot energy level function\n",
    "def plot_energy_levels(energies):\n",
    "    \"\"\"\n",
    "    Simple function to plot an MO energy level diagram.\n",
    "    takes a np array of energies as input and generates a matplotlib plot.\n",
    "    \"\"\"\n",
    "    \n",
    "    #Plot positive and negative energy values as well as dashed line at 0\n",
    "    plt.plot(np.zeros(len(energies[energies<0])), energies[energies<0],lw=0.0,marker='_',ms=35,mew=2,color='blue')\n",
    "    plt.plot(np.zeros(len(energies[energies>=0])), energies[energies>=0],lw=0.0,marker='_',ms=35,mew=2,color='red')\n",
    "    plt.hlines(0,xmin=-1,xmax=1,linestyle='dashed',alpha=0.6)\n",
    "    \n",
    "    #Label energies next to points\n",
    "    for i,e in enumerate(energies):\n",
    "        if round(energies[i],1) == round(energies[i-1],1):\n",
    "            plt.text(0.22, e-0.05, ', {:.2f} eV'.format(e), fontsize=9)\n",
    "        else:\n",
    "            plt.text(0.1, e-0.05, '{:.2f} eV'.format(e), fontsize=9)\n",
    "    \n",
    "    plt.xlim(-.5,.5)\n",
    "    plt.axis('off')\n",
    "    plt.show()\n",
    "\n",
    "#energy level diagram for benzene\n",
    "plot_energy_levels(solver.energies)"
   ]
  },
  {
   "cell_type": "markdown",
   "metadata": {},
   "source": [
    "With the next function we can print the matrix of MO eigenvectors. The eigenvectors are the columns in this matrix, so the 1st column (eigenvecs[:,0]) is the 1st MO and so on"
   ]
  },
  {
   "cell_type": "code",
   "execution_count": null,
   "metadata": {},
   "outputs": [],
   "source": [
    "#MO eigenvectors\n",
    "eigenvecs= solver.eigen_vectors\n",
    "#every column is one coefficient vector\n",
    "matprint(np.array(eigenvecs))"
   ]
  },
  {
   "cell_type": "code",
   "execution_count": null,
   "metadata": {},
   "outputs": [],
   "source": [
    "#We can access the eigenvalues, eigenvectors and populations also via\n",
    "states = solver.populated_levels\n",
    "for state in states:\n",
    "    energy = state[0]\n",
    "    MOcoeffs = state[1]\n",
    "    occupation = state[2]\n",
    "    print(energy, '  ', occupation)"
   ]
  },
  {
   "cell_type": "markdown",
   "metadata": {
    "slideshow": {
     "slide_type": "slide"
    }
   },
   "source": [
    "For molecules of this size, there is no way we can visually inspect the coefficients and understand the molecular orbitals. Below, you will find a function that allows you to visualise the orbitals."
   ]
  },
  {
   "cell_type": "code",
   "execution_count": null,
   "metadata": {},
   "outputs": [],
   "source": [
    "%matplotlib inline \n",
    "from ipywidgets import interact, interactive, fixed, interact_manual\n",
    "from PAH_data import draw_MO\n",
    "\n",
    "interactive(draw_MO, mol=fixed(rdkit_mol), eigenvecs=fixed(eigenvecs), n=range(len(eigenvecs)))\n"
   ]
  },
  {
   "cell_type": "markdown",
   "metadata": {},
   "source": [
    "We can also visualize the number of electrons on each carbon atom. The larger the blue circle, the more electrons."
   ]
  },
  {
   "cell_type": "code",
   "execution_count": null,
   "metadata": {},
   "outputs": [],
   "source": [
    "#charge populations\n",
    "print(solver.charge_densities)\n",
    "draw_MO(rdkit_mol, solver.charge_densities)"
   ]
  },
  {
   "cell_type": "markdown",
   "metadata": {},
   "source": [
    "We can visualize the net charges on each atom. Red means partial positive charge. Blue means partial negative charge. Compare with the above elecron populations."
   ]
  },
  {
   "cell_type": "code",
   "execution_count": null,
   "metadata": {},
   "outputs": [],
   "source": [
    "#net charges (charge populations - atomic charge)\n",
    "print(solver.net_charges)\n",
    "draw_MO(rdkit_mol, solver.net_charges*2) #I added a scaling factor of 2 to make the net charges more visible"
   ]
  },
  {
   "cell_type": "markdown",
   "metadata": {},
   "source": [
    "We can visualize the self-polarisability of each atom"
   ]
  },
  {
   "cell_type": "code",
   "execution_count": null,
   "metadata": {},
   "outputs": [],
   "source": [
    "#atomic self-polarisabilities\n",
    "self_polarisabilities = np.diag(solver.aa_polar)\n",
    "print(self_polarisabilities)\n",
    "draw_MO(rdkit_mol, self_polarisabilities)"
   ]
  },
  {
   "cell_type": "markdown",
   "metadata": {},
   "source": [
    "We can also calculate the **total energy** and the **bond order**:"
   ]
  },
  {
   "cell_type": "code",
   "execution_count": null,
   "metadata": {},
   "outputs": [],
   "source": [
    "#total energy\n",
    "def calculate_total_energy(matrix, charge=0):\n",
    "    \"\"\"\n",
    "    This function calculates the total energy for a given hueckel matrix. \n",
    "    It takes a huckel matrix as input, creates a shmo solver object, and calculates the total energy.\n",
    "    The return value is the total energy.\n",
    "    We define an optional variable that allows us to change the number of electrons in the molecule by adjusting the charge.\n",
    "    \n",
    "    \"\"\"\n",
    "    import shmo\n",
    "    solver = shmo.HuckelSolver(data=matrix)\n",
    "    nelectrons = solver.num_electrons #how many electrons does the molecule have by default\n",
    "    solver.set_num_electrons(nelectrons-charge) # adjust the number of electrons to match molecular charge\n",
    "    \n",
    "    total_energy = 0.0\n",
    "    for energy, coeffs, occupation in solver.populated_levels:\n",
    "        #MO energy level times occupation\n",
    "        total_energy += energy*occupation\n",
    "    return total_energy\n",
    "\n",
    "#We use the variable huckel_matrix that we have defined earlier above.\n",
    "\n",
    "#neutral molecule energy\n",
    "print('neutral molecule')\n",
    "print(calculate_total_energy(huckel_matrix))\n",
    "\n",
    "energy_neutral = calculate_total_energy(huckel_matrix) #this is how we store the energy in a variable\n",
    "\n",
    "#make cation\n",
    "print('cation')\n",
    "print(calculate_total_energy(huckel_matrix, charge=1))\n",
    "\n",
    "energy_cation = calculate_total_energy(huckel_matrix, charge=1)\n",
    "\n",
    "#make anion\n",
    "print('anion')\n",
    "print(calculate_total_energy(huckel_matrix, charge=-1))\n",
    "\n"
   ]
  },
  {
   "cell_type": "code",
   "execution_count": null,
   "metadata": {},
   "outputs": [],
   "source": [
    "def print_bond_orders(matrix):\n",
    "    \"\"\"\n",
    "    Function that calculates bond orders and returns a np array with relevant atom pairs and a list of associated bond_orders.\n",
    "    Bond orders are also printed to screen.\n",
    "    \"\"\"\n",
    "\n",
    "    import shmo\n",
    "    solver = shmo.HuckelSolver(data=matrix)\n",
    "    \n",
    "    # We multpily the bond orders with the connectivity matrix, to ensure that we only look at those that are connected. \n",
    "    #Don't worry if this goes over your head. It's a technical detail.\n",
    "    bond_orders=np.multiply(-matrix,solver.bond_orders) \n",
    "\n",
    "    print('atom i    atom j    bond order')\n",
    "    atom_pairs = []\n",
    "    borders = []\n",
    "    for pair in solver.bond_pairs():\n",
    "        i, j = pair\n",
    "        print(\"  {0:3d}      {1:3d}      {2:8.3f}\".format(i+1, j+1, bond_orders[i,j]))\n",
    "        atom_pairs.append([i+1,j+1])\n",
    "        borders.append(bond_orders[i,j])\n",
    "\n",
    "    return atom_pairs, borders\n",
    "\n",
    "\n",
    "atom_pairs, bond_orders = print_bond_orders(matrix=huckel_matrix)"
   ]
  },
  {
   "cell_type": "markdown",
   "metadata": {},
   "source": [
    "## Part 3: Hückel calculation and analysis of the three molecules"
   ]
  },
  {
   "cell_type": "markdown",
   "metadata": {
    "collapsed": true
   },
   "source": [
    "<div class=\"alert alert-block alert-info\">\n",
    "\n",
    "<b> Task 4</b><br>\n",
    "\n",
    "<ol>\n",
    "<li> Calculate the total energies of Indeno[1,2,3-cd]fluoranthene, Dibenzo[cd,jk]pyrene, Indeno[1,2,3-cd]pyrene. Which molecule is more stable? </li>\n",
    "<li> Calculate the cations and anions of the three molecules. Which cation and which anion is more stable? Use the energy levels and wave functions to explain the stability trend.</li>\n",
    "<li> For the three molecules, find out which carbon atom is most easily attacked by (A) a nucleophililic reaction agent and (B) an electrophilic reaction agent.</li>\n",
    "\n",
    "</ol>\n",
    "\n",
    "</div>"
   ]
  },
  {
   "cell_type": "code",
   "execution_count": null,
   "metadata": {},
   "outputs": [],
   "source": []
  },
  {
   "cell_type": "code",
   "execution_count": null,
   "metadata": {},
   "outputs": [],
   "source": []
  },
  {
   "cell_type": "code",
   "execution_count": null,
   "metadata": {},
   "outputs": [],
   "source": []
  }
 ],
 "metadata": {
  "kernelspec": {
   "display_name": "Python 3",
   "language": "python",
   "name": "python3"
  },
  "language_info": {
   "codemirror_mode": {
    "name": "ipython",
    "version": 3
   },
   "file_extension": ".py",
   "mimetype": "text/x-python",
   "name": "python",
   "nbconvert_exporter": "python",
   "pygments_lexer": "ipython3",
   "version": "3.8.2"
  }
 },
 "nbformat": 4,
 "nbformat_minor": 2
}
