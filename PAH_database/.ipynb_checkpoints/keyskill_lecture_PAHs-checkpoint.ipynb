{
 "cells": [
  {
   "cell_type": "code",
   "execution_count": null,
   "metadata": {
    "collapsed": true
   },
   "outputs": [],
   "source": [
    "from rdkit import Chem\n",
    "from glob import glob\n",
    "from rdkit.Chem import rdMolTransforms\n",
    "import numpy as np\n",
    "import pickle\n"
   ]
  },
  {
   "cell_type": "code",
   "execution_count": null,
   "metadata": {
    "collapsed": true
   },
   "outputs": [],
   "source": [
    "def sp2_indices(mol):\n",
    "    sp2_index = []\n",
    "    atoms = mol.GetAtoms()\n",
    "    bonded = []\n",
    "    for bond in mol.GetAtoms()[0].GetBonds():\n",
    "        bonded.append(bond.GetEndAtomIdx())\n",
    "    for atom in atoms:\n",
    "        neighbors = atom.GetNeighbors()\n",
    "        if len(neighbors) == 3:\n",
    "            for a, b in ((0, 1), (1, 2), (2, 0)):\n",
    "                angle = rdMolTransforms.GetAngleDeg(mol.GetConformer(),bonded[a],0,bonded[b])\n",
    "                if (angle > 109 and angle < 145):\n",
    "                    sp2_index.append(atom.GetIdx())\n",
    "    return list(set(sp2_index))"
   ]
  },
  {
   "cell_type": "code",
   "execution_count": null,
   "metadata": {
    "collapsed": true
   },
   "outputs": [],
   "source": [
    "def connectivity_matrix(mol):\n",
    "    atoms = mol.GetAtoms()\n",
    "    carbons = [atom for atom in atoms if atom.GetAtomicNum() == 6 ]\n",
    "    carbons_idx = [int(carbon.GetIdx()) for carbon in carbons]\n",
    "    conmat = np.eye(len(carbons))\n",
    "    for idx in carbons_idx:\n",
    "        neighbors = atoms[idx].GetNeighbors()\n",
    "        for nei in neighbors:\n",
    "            nei_idx = int(nei.GetIdx())\n",
    "            if nei_idx in carbons_idx:\n",
    "                conmat[nei_idx,idx] = -1\n",
    "            else:\n",
    "                pass\n",
    "    return conmat-np.eye(len(carbons))"
   ]
  },
  {
   "cell_type": "code",
   "execution_count": null,
   "metadata": {
    "collapsed": true
   },
   "outputs": [],
   "source": [
    "def num_carbons(mol):\n",
    "    atoms = mol.GetAtoms()\n",
    "    return len([atom for atom in atoms if atom.GetAtomicNum() == 6 ])"
   ]
  },
  {
   "cell_type": "code",
   "execution_count": null,
   "metadata": {
    "collapsed": true
   },
   "outputs": [],
   "source": [
    "def is_fully_aromatic(mol):\n",
    "    if len(sp2_indices(mol)) == num_carbons(mol):\n",
    "        return True\n",
    "    else:\n",
    "        return False"
   ]
  },
  {
   "cell_type": "code",
   "execution_count": null,
   "metadata": {
    "scrolled": true
   },
   "outputs": [],
   "source": [
    "# list to hold all our database\n",
    "\n",
    "pdbs = glob('*pdb')\n",
    "\n",
    "allsp2_dict = []\n",
    "for item in pdbs:\n",
    "    m = Chem.MolFromPDBFile(item, sanitize=False)\n",
    "    print('new molecule:  ' + item + ' nr# of atoms: ' + str(m.GetNumAtoms()))\n",
    "    if is_fully_aromatic(m):\n",
    "        allsp2_dict.append({'name' : item[:-4], 'conmat' : connectivity_matrix(m), 'num_carbon': num_carbons(m)})\n",
    "    else:\n",
    "        print('WARNING: ' + item + ' is not fully aromatic, thus skipped.')\n",
    "\n",
    "# pickle\n",
    "pickle.dump( allsp2_dict, open( \"pahs.pkl\", \"wb\" ) )"
   ]
  },
  {
   "cell_type": "code",
   "execution_count": null,
   "metadata": {
    "collapsed": true
   },
   "outputs": [],
   "source": [
    "def choose_n(myid, choices, n_molecules=10):\n",
    "    import random\n",
    "    random.seed(myid)\n",
    "    subset = random.sample(list(choices), n_molecules)\n",
    "    return subset"
   ]
  },
  {
   "cell_type": "code",
   "execution_count": null,
   "metadata": {
    "collapsed": true
   },
   "outputs": [],
   "source": [
    "def generate_dataset(myid=None, n_molecules=10, n_carbon_atoms=24, debug=False):\n",
    "    \"\"\"\n",
    "    This function picks 10 random molecules from a database based on your student ID.\n",
    "    \"\"\"\n",
    "    \n",
    "    allsp2_dict = pickle.load( open( \"pahs.pkl\", \"rb\" ) )\n",
    "    maxidx = len(allsp2_dict)\n",
    "    if debug:\n",
    "        print(' | --- Total number of fully aromatic molecules in database: ' + str(maxidx))\n",
    "        print(' | --- By number of carbon atoms: ')\n",
    "    # number of fully conjugated molecules by number of carbon atoms\n",
    "        for num in range(2,40,2):\n",
    "            print('      len = ' + str(num) + ' : molecules = ' + str(len([mol for mol in allsp2_dict if mol['num_carbon'] == num])))\n",
    "\n",
    "    print(' | --- Your molecule dataset contains molecules with {0} sp2 hybridised carbon atoms'.format(n_carbon_atoms))\n",
    "    # Since we only have more than 100 for 24 and 30 atoms I chose 24\n",
    "    equal_carbon_number = [elm for elm in allsp2_dict if elm['num_carbon'] == n_carbon_atoms]\n",
    "\n",
    "    print(' | --- Based on your student ID we chose the following molecules for you: ')\n",
    "\n",
    "    subset = choose_n(myid, equal_carbon_number, n_molecules)\n",
    "    mols = []\n",
    "    legend = []\n",
    "    for pmol in subset:\n",
    "        print('      ' + pmol['name'])\n",
    "        legend.append(pmol['name'])\n",
    "        mols.append(Chem.MolFromMolFile(pmol['name']+'.mol'))\n",
    "\n",
    "    return subset, mols, legend"
   ]
  },
  {
   "cell_type": "code",
   "execution_count": null,
   "metadata": {},
   "outputs": [],
   "source": [
    "dataset, mols, legend = generate_dataset(myid=1673606, n_molecules=24, n_carbon_atoms=20, debug=True)"
   ]
  },
  {
   "cell_type": "code",
   "execution_count": null,
   "metadata": {},
   "outputs": [],
   "source": [
    "from rdkit import Chem\n",
    "import rdkit.Chem.Draw\n",
    "from rdkit.Chem import AllChem\n",
    "from IPython.display import SVG\n",
    "\n",
    "SVG(Chem.Draw.MolsToGridImage(mols, useSVG=True, legends=legend, subImgSize=(300,300)))"
   ]
  },
  {
   "cell_type": "code",
   "execution_count": null,
   "metadata": {
    "collapsed": true
   },
   "outputs": [],
   "source": []
  }
 ],
 "metadata": {
  "kernelspec": {
   "display_name": "Python 3",
   "language": "python",
   "name": "python3"
  },
  "language_info": {
   "codemirror_mode": {
    "name": "ipython",
    "version": 3
   },
   "file_extension": ".py",
   "mimetype": "text/x-python",
   "name": "python",
   "nbconvert_exporter": "python",
   "pygments_lexer": "ipython3",
   "version": "3.6.2"
  }
 },
 "nbformat": 4,
 "nbformat_minor": 2
}
