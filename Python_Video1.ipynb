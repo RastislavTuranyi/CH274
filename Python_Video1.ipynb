{
 "cells": [
  {
   "cell_type": "markdown",
   "metadata": {},
   "source": [
    "<div class=\"alert alert-block alert-info\">\n",
    "    \n",
    "These blue boxes contain instructions for you to follow, or stuff for you to do\n",
    "<h2>How to access this Jupyter notebook</h2>\n",
    "\n",
    "* <b>Step 1</b>: Open a web browser,  and go to [this page](https://jupyter.warwick.ac.uk/module/CH274), \n",
    "* <b>Step 2</b>: Enter your SCRTP username and password and press the \"Start Server\" button.<br>\n",
    "* <b>Step 3</b>: Wait (it could take a few minutes) until the blue box says \"Jupyter notebook server running!\". At that point, click on the weblink below said message.<br>\n",
    "* <b>Step 4</b>: Select the Jupyter Notebook you want to work on. <i>Remember to make a copy of the orginal notebook</i> (which is read-only). To do so, in the toolbar on top of the notebook, select File and then Make a Copy <br>\n",
    "* <b>Step 5</b>: You're all set! <br>\n",
    "* <b>Step 6</b>: <font color=\"red\">When you are done, remember to click the \"Stop Server\" button in the launcher web browser tab.</font> Please do, it's really quite important. <br>\n",
    "<b> Remember: </b> You can access your copy of the Notebook at any time from any device off and on campus by going through the same steps on e.g. your laptop - all the changes you have made will be saved and synced! <br>\n",
    "\n",
    "<div/>"
   ]
  },
  {
   "cell_type": "markdown",
   "metadata": {},
   "source": [
    "# CH274: Python Skills\n",
    "## Functions, Code Design, and Linear Algebra\n",
    "\n",
    "In this session, we are going to look at some advanced features of the Python programming language, such as:\n",
    "* How to write functions\n",
    "* Methods to design a program with reusable code structures (aka functions)\n",
    "* How to perform linear algebra operations with the numpy and scipy libraries\n",
    "* How to not reinvent the wheel (using existing functions and libraries)\n",
    "\n",
    "We will do this by writing a code that will solve a quantum mechanical problem: the particle in a box.\n",
    "Our focus will be on the code!"
   ]
  },
  {
   "cell_type": "markdown",
   "metadata": {},
   "source": [
    "## Quick Recap from CH160 and CH273\n",
    "\n",
    "\n",
    "* you've learned about the basics of Python, variables, strings, printing\n",
    "\n",
    "\n"
   ]
  },
  {
   "cell_type": "code",
   "execution_count": 4,
   "metadata": {},
   "outputs": [
    {
     "name": "stdout",
     "output_type": "stream",
     "text": [
      "     float      |     integer     |     string      | complex number \n",
      "      3.0       |        3        |       12        |     (1+2j)     \n"
     ]
    }
   ],
   "source": [
    "#real variables / floats\n",
    "a = 1.0 + 2.0\n",
    "#integer variables\n",
    "b = 1 + 2\n",
    "#strings/text\n",
    "c = '1' + '2'\n",
    "#complex numbers\n",
    "d = 1.0 + 2.0j # this is a complex number with a real part (1.0) and an imaginary part (2.0j)\n",
    "\n",
    "#Python automatically figures out variable types where possible\n",
    "\n",
    "#formatted printing onto screen; each variable gets 15 spaces and is centred in that space\n",
    "print(\"{:^15} | {:^15} | {:^15} | {:^15}\".format(\"float\", \"integer\", \"string\", \"complex number\"))\n",
    "print(\"{:^15} | {:^15} | {:^15} | {:^15}\".format(a, b, c, d))"
   ]
  },
  {
   "cell_type": "markdown",
   "metadata": {},
   "source": [
    "* You know that you can do basic algebra"
   ]
  },
  {
   "cell_type": "code",
   "execution_count": 5,
   "metadata": {},
   "outputs": [
    {
     "name": "stdout",
     "output_type": "stream",
     "text": [
      "     a * b      |      a / b      |       a^2       |       a^b      \n",
      "     50.0       |       2.0       |      100.0      |    100000.0    \n"
     ]
    }
   ],
   "source": [
    "#multiplying and dividing two variables\n",
    "a = 10.0\n",
    "b = 5.0\n",
    "c = a * b\n",
    "d = a / b\n",
    "#taking powers of variables\n",
    "e = a**2\n",
    "f = a**b\n",
    "print(\"{:^15} | {:^15} | {:^15} | {:^15}\".format(\"a * b\", \"a / b\", \"a^2\", \"a^b\"))\n",
    "print(\"{:^15} | {:^15} | {:^15} | {:^15}\".format(c, d, e, f))"
   ]
  },
  {
   "cell_type": "markdown",
   "metadata": {},
   "source": [
    "* you've learned how to use numpy to define arrays and lists of numbers and to read in files\n",
    "\n"
   ]
  },
  {
   "cell_type": "code",
   "execution_count": 6,
   "metadata": {},
   "outputs": [
    {
     "name": "stdout",
     "output_type": "stream",
     "text": [
      "This is an array [ 1  2  3  4  5  6  7  8  9 10]\n",
      "arrays enable element-wise multiplications\n",
      "x                                 x*x\n",
      "[ 1  2  3  4  5  6  7  8  9 10] [  1   4   9  16  25  36  49  64  81 100]\n",
      "[[  1.   1.]\n",
      " [  2.   4.]\n",
      " [  3.   9.]\n",
      " [  4.  16.]\n",
      " [  5.  25.]\n",
      " [  6.  36.]\n",
      " [  7.  49.]\n",
      " [  8.  64.]\n",
      " [  9.  81.]\n",
      " [ 10. 100.]]\n",
      "Rows and Columns:  (10, 2)\n",
      "Carving out 1st and 2nd column:\n",
      "[ 1.  2.  3.  4.  5.  6.  7.  8.  9. 10.] [  1.   4.   9.  16.  25.  36.  49.  64.  81. 100.]\n",
      "Carving out 1st and 2nd row\n",
      "[1. 1.] [2. 4.]\n"
     ]
    }
   ],
   "source": [
    "import numpy as np #import numpy and use it with a shortcut 'np'\n",
    "x = np.array([1,2,3,4,5,6,7,8,9,10])\n",
    "print('This is an array',x)\n",
    "y = x*x # multiplies each value in x with itself and generates a new array\n",
    "print('arrays enable element-wise multiplications')\n",
    "print('x                                 x*x')\n",
    "print(x, y)\n",
    "\n",
    " # read in x-y data from a file\n",
    "data = np.loadtxt('STUFF/test.txt')\n",
    "print(data) #2-dimensional array with 10 rows and 2 columns \n",
    "print('Rows and Columns: ', data.shape)\n",
    "print('Carving out 1st and 2nd column:')\n",
    "print(data[:,0],data[:,1])\n",
    "print('Carving out 1st and 2nd row')\n",
    "print(data[0,:],data[1,:])"
   ]
  },
  {
   "cell_type": "markdown",
   "metadata": {},
   "source": [
    "* you've learned how to iterate through arrays and lists with for-loops"
   ]
  },
  {
   "cell_type": "code",
   "execution_count": 7,
   "metadata": {},
   "outputs": [
    {
     "name": "stdout",
     "output_type": "stream",
     "text": [
      "[  1.   4.   9.  16.  25.  36.  49.  64.  81. 100.]\n",
      "\n",
      "[  1.   4.   9.  16.  25.  36.  49.  64.  81. 100.]\n"
     ]
    }
   ],
   "source": [
    "#define x again here and rename it\n",
    "index = 0\n",
    "y = np.zeros(len(x)) #define an array of the same length as x filled with zeros\n",
    "for x_val in x: #a loop iterating over every element in the array x, we access the element through x_val\n",
    "    y[index] = x_val*x_val\n",
    "    index = index + 1\n",
    "print(y)\n",
    "print('')\n",
    "#there is a convenient function if you don't want to define index to label the position in the array\n",
    "for index, x_val in enumerate(x):\n",
    "    y[index] = x_val*x_val\n",
    "print(y)"
   ]
  },
  {
   "cell_type": "markdown",
   "metadata": {},
   "source": [
    "* you've learned how to do basic plotting"
   ]
  },
  {
   "cell_type": "code",
   "execution_count": 8,
   "metadata": {},
   "outputs": [
    {
     "data": {
      "image/png": "[encoded data removed]",
      "text/plain": [
       "<Figure size 432x288 with 1 Axes>"
      ]
     },
     "metadata": {
      "needs_background": "light"
     },
     "output_type": "display_data"
    }
   ],
   "source": [
    "#commands with % sign are special jupyter notebook commands\n",
    "%matplotlib notebook \n",
    "%matplotlib inline \n",
    "#lets import the main plotting engine from matplotlib\n",
    "import matplotlib.pyplot as plt\n",
    "\n",
    "plt.plot(x,y)\n",
    "plt.show()"
   ]
  },
  {
   "cell_type": "markdown",
   "metadata": {},
   "source": [
    "***"
   ]
  },
  {
   "cell_type": "markdown",
   "metadata": {},
   "source": [
    "# The particle in a box in 1D (pib1d)\n",
    "Here's a quick reminder of the particle in a box \n",
    "\n",
    "\n",
    "<div class=\"col-md-12\">\n",
    "                    </div>\n",
    "                    <div class=\"col-md-12\">    \n",
    "                    <div class=\"col-md-4\">\n",
    "                        <img src=\"STUFF/tik1d.png\" alt=\"Motivation\">\n",
    "                    </div>    \n",
    "                    <div class=\"col-md-8\">\n",
    "                        <p>  Schrödinger equation (SE): $\\hat{H}\\psi = E\\psi $</p>\n",
    "                        <p class=\"\">  \n",
    "                        SE: action of energy operator $\\hat{H}$ defines the energy and wave function $\\psi$  </p>\n",
    "                        <p class=\"\"> $$ \\hat{H} = -\\frac{\\hbar^2}{2m}\\frac{d^2}{dx^2} +V  $$</p>\n",
    "                        <p class=\" margin-top-10\"> boundary conditions: $ \\psi(0) = 0 \\quad\\text{and}\\quad \\psi(L) = 0 $</p>\n",
    "                    </div>\n",
    "                    </div>                    \n",
    "                    <div class=\"col-md-6\">                   \n",
    "                        <p><b>wave function</b></p>\n",
    "                        <p> $$ \\psi_n(x) = \\sqrt{\\frac{2}{L}}\\sin{\\frac{n\\pi x}{L}}  $$ </p>\n",
    "                    </div>\n",
    "                    <div class=\"col-md-6\">                    \n",
    "                        <p><b>energies</b></p>\n",
    "                        <p> $$ E_n = \\frac{\\hbar^2\\pi^2}{2m}\\frac{n^2}{L^2}  $$ </p>\n",
    "                    </div>"
   ]
  },
  {
   "cell_type": "markdown",
   "metadata": {
    "collapsed": true
   },
   "source": [
    "Our approach to **design a code** to calculate the wave functions and the energies shall be as follows:\n",
    "\n",
    "(1) First we have to think carefully about what different building blocks we need. Each of these elements or building blocks could potentially be designed to be an independent piece of code that can be called as often as we want (This is what we call a **function**.) Functions allow us to package and reuse code without having to modify it. Look at the cells in the Recap section to see examples of non-reusable code (sometimes called 'spagetti' code). With a function, I can package 100s of lines of code into a single command.\n",
    "\n",
    "In the example of the pib1d, we need following building blocks\n",
    "\n",
    "1.1 a function that sets up the box along the $x$ axis (let's call this function ```make_xgrid```)\n",
    "\n",
    "1.2 a function that defines the potential and imposes the boundary condition (let's call this function ```potential```). This function defines the physical system. In the future we might be interested to swap the box for a harmonic potential or a different box.\n",
    "\n",
    "1.3 a function that sets up the Hamiltonian (let's call this ```create_H```). This is universal and not problem-specific.\n",
    "\n",
    "1.4 a function that diagonalises the SE: $\\hat{H}\\psi = E\\psi $ to give us $E$ and $\\psi$ (```diagonalise_H```)\n",
    "\n",
    "1.5 a function that plots $E(x)$ and $\\psi(x)$ (```generate_plots```)\n",
    "\n",
    "\n",
    "\n",
    "(2) Then we need to write and test these 5 functions. **Testing** is essential as it enables us to know which parts of the code operate as intended. Tests that assess the validity of individual functions are called **unit tests**.\n",
    "\n",
    "(3) At the end, when we know that all functions do what they are supposed to do, we write code (can be spagetti code or a function) that executes the functions in the right order. This is typically called the ```main``` or ```program```.\n",
    "\n"
   ]
  },
  {
   "cell_type": "markdown",
   "metadata": {
    "collapsed": true
   },
   "source": [
    "## 1.1 How do Python functions work?\n",
    "\n",
    "A function has a definition followed by parentheses, which contain the function arguments. Functions typically also have a return value. See following example:"
   ]
  },
  {
   "cell_type": "code",
   "execution_count": 9,
   "metadata": {},
   "outputs": [],
   "source": [
    "#Let's import some important packages before we start.\n",
    "import numpy\n",
    "#it's nice to abbreviate packages which we use a lot, so\n",
    "import numpy as np\n",
    "import matplotlib.pyplot as plt\n",
    "import scipy as sp  #scipy is now called sp"
   ]
  },
  {
   "cell_type": "markdown",
   "metadata": {},
   "source": [
    "Now we define a function to make the x-axis grid. Take a look at all the common features of functions. Functions always look like this:"
   ]
  },
  {
   "cell_type": "code",
   "execution_count": 10,
   "metadata": {},
   "outputs": [],
   "source": [
    "#A function starts with a `def` statement followed by the name of the function \n",
    "#and parenthesis which contain all the input variables\n",
    "def make_xgrid(start, stop, N):\n",
    "    #note the indentation, everything inside a function has to be indented\n",
    "    \"\"\"\n",
    "    This is the help description of the function. \n",
    "    It serves to explain what the function does and what its arguments should be and its return value.\n",
    "    Help descriptions always have three double quotes around them and are at the top of the function.\n",
    "    \n",
    "    This function has three input variables (also called arguments):\n",
    "    \n",
    "    'start' is a real number which specifies the left boundary of the x axis grid\n",
    "    'stop' is a real number which specifies the right boundary of the x axis grid\n",
    "    'N' is an integer number which specifies the number of grid points we need for our x axis between 0 and L\n",
    "    \n",
    "    The return value of the function is a numpy array, which contains the x axis values.\n",
    "    \n",
    "    \"\"\"    \n",
    "    \n",
    "    #The numpy function linspace allows us to generate a numpy array which contains N values from 'start' to 'stop'\n",
    "    #This array constitutes our x axis\n",
    "    x = np.linspace(start,stop,N)\n",
    "    \n",
    "    #every function ends with a return statement. The function takes input variables or arguments and delivers a returnstatement.\n",
    "    #return statements can be empty, the can be 'return True/False' or they can be variables, which have been calculated.\n",
    "    #In our case, we return the created x-axis grid\n",
    "\n",
    "    return x\n",
    "#The return statement ends the function and the indentation returns to the level before the function"
   ]
  },
  {
   "cell_type": "markdown",
   "metadata": {
    "collapsed": true
   },
   "source": [
    "<div class=\"alert alert-block alert-info\">\n",
    "\n",
    "**Task 1** \n",
    "\n",
    "The help string can be accessed by placing a question mark after the function e.g. ```make_xgrid?```. **Give it a try!**\n",
    "\n",
    "<br>\n",
    "\n",
    "**Task 2** \n",
    "\n",
    "Let's call the function by issuing ```x = make_xgrid(start, stop, N)```. We want the box to go from 0 to 5, so the grid should have some space to the left and right. Generate an x grid from -1 to 6 with N=200 grid points and print it to screen.\n",
    "</div>"
   ]
  },
  {
   "cell_type": "code",
   "execution_count": 11,
   "metadata": {},
   "outputs": [],
   "source": [
    "#TASK 1 <insert code here>\n"
   ]
  },
  {
   "cell_type": "markdown",
   "metadata": {},
   "source": [
    "See how your help string appears?\n",
    "Functions in packages such as numpy, scipy and matplotlib have helpstrings. Try out plt.plot? and np.linalg.inv?"
   ]
  },
  {
   "cell_type": "code",
   "execution_count": 12,
   "metadata": {},
   "outputs": [],
   "source": [
    "#TASK 2 \n",
    "#<insert code here>\n",
    "\n",
    "#When we call functions, we call the function name and assign input values. \n",
    "#The function will create something, which we need to pass into a variable"
   ]
  },
  {
   "cell_type": "markdown",
   "metadata": {
    "collapsed": true
   },
   "source": [
    "## 1.2 The potential function\n",
    "\n",
    "Let's work on the ```potential``` function next! This function needs to calculate the values of the potential well along the x axis grid. This is simply 0 between 0 and L and a very large number (numerically 'close to infinity') outside of the box."
   ]
  },
  {
   "cell_type": "code",
   "execution_count": 13,
   "metadata": {},
   "outputs": [],
   "source": [
    "def potential(x, box_l=0.0, box_r=5.0, height=100000.0): \n",
    "    #Note how the 1st input has no value assigned, but the 2nd, 3rd and 4th do, e.g. box_l=0.0\n",
    "    #When inputs have values assigned, they become optional with default values if you don't set them when you call the function\n",
    "    \"\"\"\n",
    "    This function calculates the potential numpy array for a given numpy array of x axis values\n",
    "    \n",
    "    argument:\n",
    "    x np.array : x axis grid\n",
    "    box_l float :  left boundary value of the box\n",
    "    box_r float :  right boundary value of the box\n",
    "    \n",
    "    return value:\n",
    "    pot np.array\n",
    "    \"\"\"\n",
    "    \n",
    "    #the concept of infinity doesn't exist in computers, \n",
    "    #so we will assign the value 'height' to any point outside the range [box_l,box_r]\n",
    "    \n",
    "    #first, let's generate a potential array which has the same dimension as x, but zeros instead\n",
    "    pot = np.zeros_like(x)     #isn't numpy great? This generates an array with zeros, which has the same shape like x\n",
    "    \n",
    "    for i, xvalue in enumerate(x): #we loop through all x values\n",
    "        #enumerate is really nice. \n",
    "        #It allows us to loop through an array and, for each value, gives us an index i and the actual xvalue\n",
    "        if (xvalue<box_l): #left wall\n",
    "            pot[i] = height\n",
    "        elif (xvalue> box_l and xvalue < box_r): #inside the box\n",
    "            pot[i] = 0.0\n",
    "        elif (xvalue>box_r): #right wall\n",
    "            pot[i] = height\n",
    "        else:\n",
    "            #This part of the if-else structure is a fail-safe.\n",
    "            #ALl possible values are covered by the if/elif clauses, so this one should never be reached. \n",
    "            #If it is reached, we want the code to throw the Python version of a hissy fit - a ValueError.\n",
    "            #This would lead to a controlled end of the code with this error message on display.\n",
    "            raise ValueError(\"COMPUTER SAYS NO. This point should never be reached.\")\n",
    "    \n",
    "    #as usual, we need to return the result\n",
    "    return pot\n",
    "    "
   ]
  },
  {
   "cell_type": "markdown",
   "metadata": {},
   "source": [
    "\n",
    "    \n",
    "Note that in  ```potential```, the box_l and box_r arguments have values assigned to them. This is called a **default value** and makes the two values **optional arguments**. If we issue the function ```potential``` without box_l or box_r, it will still work, but it will assume their values are 0 and 5, respectively.\n",
    "\n",
    "<br>\n",
    "<div class=\"alert alert-block alert-info\">\n",
    "    \n",
    "**Task 3** \n",
    "\n",
    "Test the potential function by calling it with the above defined x array once with and once without the box_l and box_r values of 0 and 5 assigned to it. Confirm that the results are identical by plotting pot vs. x!\n",
    "\n",
    "</div>\n"
   ]
  },
  {
   "cell_type": "code",
   "execution_count": 14,
   "metadata": {},
   "outputs": [],
   "source": [
    "#TASK 3 \n",
    "#<insert code here>\n",
    "\n",
    "#pot = potential(...)\n"
   ]
  },
  {
   "cell_type": "markdown",
   "metadata": {},
   "source": [
    "## 1.3 Computational Linear Algebra: Scipy and Numpy are your friends\n"
   ]
  },
  {
   "cell_type": "markdown",
   "metadata": {
    "collapsed": true
   },
   "source": [
    "Alright, the next thing on our list requires some heavier maths, namely the functions ```create_H``` and ```diagonalise_H```.\n",
    "We will again focus on the code, not the maths!\n",
    "\n",
    "The function ```create_H``` is supposed to create the Hamiltonian of the pib1d:\n",
    "\\begin{equation}\n",
    "\\hat{H} = -\\frac{\\hbar^2}{2m}\\frac{d^2}{dx^2} +V\n",
    "\\end{equation}\n",
    "\n",
    "We need to create the Hamiltonian in the basis representation that we have chosen, which is the discrete x axis grid. In this representation, the Hamiltonian is an N-by-N matrix, where N is the number of grid points.\n",
    "\n",
    "We can calculate the potential with our ```potential``` function, but we are missing the kinetic energy contribution. Therefore, we need to calculate a numerical second derivative $d^2/dx^2$ (Laplace operator) with respect to $x$. This is where the numpy matrix routines and the ready-to-use scipy algebra operations will come in very handy.\n",
    "\n"
   ]
  },
  {
   "cell_type": "markdown",
   "metadata": {},
   "source": [
    "There are some Python packages, which are absolutely essential to scientific computing. These include numpy, scipy, and matplotlib:\n",
    "<div class=\"col-md-12\">\n",
    "<div class=\"col-md-4\">\n",
    "<a href=\"https://docs.scipy.org/doc/numpy/user/quickstart.html\"> <img src=\"STUFF/Numpy.png\"> </a>\n",
    "</div>\n",
    "<div class=\"col-md-4\">\n",
    "<a href=\"https://docs.scipy.org/doc/scipy/reference/\"> <img src=\"STUFF/scipy.png\"> </a>\n",
    "</div>\n",
    "<div class=\"col-md-4\">\n",
    "<a href=\"https://matplotlib.org/tutorials/index.html\"> <img src=\"STUFF/matplotlib.png\"></a>\n",
    "</div></div>\n",
    "Click on the images to explore some of their capabilities!\n",
    "\n",
    "These packages have been designed, so that we do not have to **re-invent the wheel** every time we code something. ```numpy``` enables us to perform complex matrix and vector operations. ```scipy``` allows us to do integration, differentiation, interpolation, linear algebra, you name it! \n",
    "\n",
    "<br>\n",
    "\n",
    "```scipy``` for example, has a function that allows us to construct  a numerical Laplace operator, called <a href=\"https://docs.scipy.org/doc/scipy/reference/generated/scipy.ndimage.laplace.html\"> ```scipy.ndimage.laplace```</a>. We can use this to build the kinetic energy operator. (**Rule No. 1 of coding: Always try to see if somebody else has solved the problem already!**\n",
    "\n",
    "\n",
    "\n"
   ]
  },
  {
   "cell_type": "code",
   "execution_count": 15,
   "metadata": {},
   "outputs": [],
   "source": [
    "def create_H(x, pot):\n",
    "    \"\"\"\n",
    "    This function creates a Hamiltonian.\n",
    "    It takes the x axis grid and the potential grid and returns the Hamiltonian matrix H=T+V\n",
    "    \"\"\"\n",
    "    \n",
    "    #We perform our calculations in atomic units, so hbar=1 and our particle has the mass 1\n",
    "    hbar = 1\n",
    "    m = 1\n",
    "    #distance between grid points\n",
    "    dx = x[1]-x[0]\n",
    "    \n",
    "    ###kinetic energy T\n",
    "    import scipy.ndimage\n",
    "    #This is the second derivative\n",
    "    L = scipy.ndimage.laplace(np.eye(len(x)), mode='wrap')/(2.0*dx*dx) #np.eye is a diagonal unit matrix (I) with size 'x' by 'x'\n",
    "    #Here we add all the constants\n",
    "    T= -(1./2.)*((hbar**2)/m)*L\n",
    "    \n",
    "    #We build the hamiltonian by adding the potential energy to the matrix diagonal\n",
    "    V = np.diag(pot)   #np.diag takes a list of numbers and puts it onto the diagonal; the offdiagonals are 0\n",
    "    \n",
    "    H = T+V\n",
    "    return H\n",
    "    "
   ]
  },
  {
   "cell_type": "markdown",
   "metadata": {
    "collapsed": true
   },
   "source": [
    "<div class=\"alert alert-block alert-info\">\n",
    "    \n",
    "**Task 4** \n",
    "\n",
    "Test the create_H function by calling it with the x grid and the potential we have defined earlier. Use the plotting routine below to visualize the magnitude of the matrix elements. What is the structure of the matrix? Does it remind you of something you've seen in the lecture?\n",
    "\n",
    "</div>\n"
   ]
  },
  {
   "cell_type": "code",
   "execution_count": 16,
   "metadata": {},
   "outputs": [
    {
     "ename": "NameError",
     "evalue": "name 'pot' is not defined",
     "output_type": "error",
     "traceback": [
      "\u001b[1;31m---------------------------------------------------------------------------\u001b[0m",
      "\u001b[1;31mNameError\u001b[0m                                 Traceback (most recent call last)",
      "\u001b[1;32m<ipython-input-16-4676db202a3f>\u001b[0m in \u001b[0;36m<module>\u001b[1;34m\u001b[0m\n\u001b[0;32m      1\u001b[0m \u001b[1;31m#TASK 4\u001b[0m\u001b[1;33m\u001b[0m\u001b[1;33m\u001b[0m\u001b[1;33m\u001b[0m\u001b[0m\n\u001b[1;32m----> 2\u001b[1;33m \u001b[0mH\u001b[0m \u001b[1;33m=\u001b[0m \u001b[0mcreate_H\u001b[0m\u001b[1;33m(\u001b[0m\u001b[0mx\u001b[0m\u001b[1;33m,\u001b[0m \u001b[0mpot\u001b[0m\u001b[1;33m)\u001b[0m\u001b[1;33m\u001b[0m\u001b[1;33m\u001b[0m\u001b[0m\n\u001b[0m\u001b[0;32m      3\u001b[0m \u001b[1;33m\u001b[0m\u001b[0m\n\u001b[0;32m      4\u001b[0m \u001b[0mplt\u001b[0m\u001b[1;33m.\u001b[0m\u001b[0mimshow\u001b[0m\u001b[1;33m(\u001b[0m\u001b[0mH\u001b[0m\u001b[1;33m[\u001b[0m\u001b[1;33m:\u001b[0m\u001b[1;36m20\u001b[0m\u001b[1;33m,\u001b[0m\u001b[1;33m:\u001b[0m\u001b[1;36m20\u001b[0m\u001b[1;33m]\u001b[0m\u001b[1;33m,\u001b[0m\u001b[0mvmin\u001b[0m\u001b[1;33m=\u001b[0m\u001b[1;33m-\u001b[0m\u001b[1;36m50\u001b[0m\u001b[1;33m,\u001b[0m \u001b[0mvmax\u001b[0m\u001b[1;33m=\u001b[0m\u001b[1;36m100\u001b[0m\u001b[1;33m)\u001b[0m\u001b[1;33m;\u001b[0m\u001b[1;33m\u001b[0m\u001b[1;33m\u001b[0m\u001b[0m\n\u001b[0;32m      5\u001b[0m \u001b[0mplt\u001b[0m\u001b[1;33m.\u001b[0m\u001b[0mxlabel\u001b[0m\u001b[1;33m(\u001b[0m\u001b[1;34m'grid points'\u001b[0m\u001b[1;33m)\u001b[0m\u001b[1;33m\u001b[0m\u001b[1;33m\u001b[0m\u001b[0m\n",
      "\u001b[1;31mNameError\u001b[0m: name 'pot' is not defined"
     ]
    }
   ],
   "source": [
    "#TASK 4\n",
    "H = create_H(x, pot)\n",
    "\n",
    "plt.imshow(H[:20,:20],vmin=-50, vmax=100);\n",
    "plt.xlabel('grid points')\n",
    "plt.ylabel('grid points')\n",
    "plt.colorbar()\n",
    "plt.show()"
   ]
  },
  {
   "cell_type": "markdown",
   "metadata": {},
   "source": [
    "## 1.4 Calculating E and $\\psi$\n",
    "Now that we have the Hamiltonian, we 'just' need to diagonalise it. Here, again, scipy is of great help. It provides us with the <a href=\"https://docs.scipy.org/doc/scipy/reference/generated/scipy.linalg.eigh.html\">```scipy.linalg.eigh```</a> function, which calculates the eigenvalues ($E$) and eigenvectors ($\\psi$) of a symmetric matrix (H)."
   ]
  },
  {
   "cell_type": "code",
   "execution_count": null,
   "metadata": {},
   "outputs": [],
   "source": [
    "def diagonalise_H(H):\n",
    "    \"\"\"\n",
    "    A 'wrapper function' for the eigh function. \n",
    "    We call functions 'wrappers' when they do little more but encapsulating an existing function.\n",
    "    \n",
    "    The function returns the eigenvalues and the matrix of wave function coefficients.\n",
    "    \n",
    "    \"\"\"\n",
    "    import scipy.linalg as la\n",
    "    E, psi = la.eigh(H)\n",
    "    return E, psi"
   ]
  },
  {
   "cell_type": "markdown",
   "metadata": {},
   "source": [
    "<div class=\"alert alert-block alert-info\">\n",
    "    \n",
    "**Task 5** \n",
    "\n",
    "Test the diagonalise_H function by calling it with the H matrix we built before. \n",
    "Print the eigenvalues and try to see if they make sense, when compared to:\n",
    "    $$ E_n = \\frac{\\hbar^2\\pi^2}{2m}\\frac{n^2}{L^2} $$\n",
    "</div>\n"
   ]
  },
  {
   "cell_type": "code",
   "execution_count": null,
   "metadata": {},
   "outputs": [],
   "source": [
    "#TASK 5\n",
    "E, psi = diagonalise_H(H)\n",
    "\n",
    "#Use these functions to plot the energy levels of the particle in a box\n",
    "plt.plot(np.ones(len(E)),E,lw=0.0, marker='_',ms=40)\n",
    "plt.ylim(0,10)\n",
    "plt.ylabel('Energy in Hartree')"
   ]
  },
  {
   "cell_type": "markdown",
   "metadata": {},
   "source": [
    "Looks like we just solved the quantum mechanical particle in a box problem. Now we need a fancy visualisation function!"
   ]
  },
  {
   "cell_type": "markdown",
   "metadata": {},
   "source": [
    "## 1.5 We need a plotting function\n",
    "\n",
    "The following function is quite complicated and you don't need to understand it in detail for now. **We will simply use it**. \n",
    "You'll learn more about plotting in the fourth key skills lecture\n"
   ]
  },
  {
   "cell_type": "code",
   "execution_count": null,
   "metadata": {},
   "outputs": [],
   "source": [
    "####PLEASE IGNORE THIS BOX, JUST EXECUTE IT\n",
    "#### %matplotlib notebook \n",
    "%matplotlib inline \n",
    "import matplotlib.pyplot as plt\n",
    "from ipywidgets import interact, interactive, fixed, interact_manual\n",
    "    \n",
    "def plot_pib1d(x, pot, E, psi, n=0):\n",
    "        \"\"\"\n",
    "        plots the energies, the wave function and the probability density with interactive handles.\n",
    "        \"\"\"\n",
    "\n",
    "        n=n-1\n",
    "        import matplotlib.gridspec as gridspec\n",
    "        plt.figure(figsize=(11, 8), dpi= 80, facecolor='w', edgecolor='k') # figsize determines the actual size of the figure\n",
    "        gs1 = gridspec.GridSpec(2, 3)\n",
    "        gs1.update(left=0.05, right=0.90, wspace=0.35,hspace=0.25)\n",
    "        ax1 = plt.subplot(gs1[: ,0])\n",
    "        ax2 = plt.subplot(gs1[0, 1:])\n",
    "        ax3 = plt.subplot(gs1[1, 1:])\n",
    "\n",
    "\n",
    "        ax1.plot(x, pot, color='gray')\n",
    "        ax1.plot(np.ones(len(E)), E, lw=0.0, marker='_',ms=4000, color='blue')\n",
    "        ax1.plot(1, E[n], lw=0.0, marker='_',ms=4000, color='red')\n",
    "        ax1.set_ylim(-1,21)\n",
    "        ax2.plot(x, psi[:,n])  \n",
    "        ax3.plot(x, psi[:,n]*psi[:,n])\n",
    "\n",
    "        #figure out boundaries\n",
    "        start=0; stop=0\n",
    "        for i, p in enumerate(pot):\n",
    "            if (p>-0.001 and p<0.001):\n",
    "                start=x[i-1]\n",
    "                break\n",
    "        for i, p in enumerate(pot):\n",
    "            if (p>-0.001 and p<0.001):\n",
    "                stop=x[i+1]\n",
    "\n",
    "        ax2.axvline(start, color='gray')\n",
    "        ax2.axvline(stop, color='gray')  \n",
    "        ax3.axvline(start, color='gray')\n",
    "        ax3.axvline(stop, color='gray')\n",
    "        ax3.axhline(0.0,color='gray')\n",
    "\n",
    "        #Labeling of x and y axes\n",
    "        ax1.set_xlabel('x',fontsize=14)\n",
    "        ax1.set_ylabel('Energy [eV]',fontsize=14)\n",
    "        ax2.set_ylabel(r'wave function $\\psi(x)$',fontsize=14)\n",
    "        ax3.set_ylabel(r'density $|\\psi|^2$(x)',fontsize=14)\n",
    "        ax2.set_xlabel(r'x',fontsize=14)\n",
    "        ax3.set_xlabel(r'x',fontsize=14)\n",
    "\n",
    "        #Show the final result\n",
    "        plt.show()\n",
    "        return plot_pib1d\n"
   ]
  },
  {
   "cell_type": "markdown",
   "metadata": {},
   "source": [
    "<div class=\"alert alert-block alert-info\">\n",
    "    \n",
    "**Task 6** \n",
    "\n",
    "Play around with the visualisation! Verify that your functions produce the right physics. You should look out for the following features:\n",
    "<br>\n",
    "(A) Do the wave functions show the right number of nodal planes?\n",
    "<br>\n",
    "(B) Do the energy levels follow the $n^2$ behavior?\n",
    "</div>"
   ]
  },
  {
   "cell_type": "code",
   "execution_count": null,
   "metadata": {},
   "outputs": [],
   "source": [
    "#TASK 6 EXECUTE THIS CELL\n",
    "\n",
    "#This function generates an interactive plot of the box, the energies, the wavefunctions\n",
    "interactive_plot = interactive(plot_pib1d,x=fixed(x),pot=fixed(pot),E=fixed(E),psi=fixed(psi),n=range(1,21))\n",
    "\n",
    "interactive_plot"
   ]
  },
  {
   "cell_type": "markdown",
   "metadata": {},
   "source": [
    "## Putting it all together - the `main program`"
   ]
  },
  {
   "cell_type": "markdown",
   "metadata": {
    "collapsed": true
   },
   "source": [
    "Now we have all the ingredients we need to build a stand-alone program that performs these operations. We simply generate a ```pib1d``` function which takes arguments and then executes the functions we have generated above in the right order. Some of the sub-function arguments depend on each other and don't need to be set by the user, for example if the box goes from 0 to 5, we can just force the x axis grid to always extend by 1 to the left and to the right. (This is what we call **user interface design**. We don't bother users with too many choices if there are sensible defaults.)\n"
   ]
  },
  {
   "cell_type": "code",
   "execution_count": null,
   "metadata": {},
   "outputs": [],
   "source": [
    "def pib1d(N, box_l, box_r, height=100000.0):\n",
    "    \"\"\"\n",
    "    calculates and visualises the energies and wave functions of the 1d particle in a box\n",
    "    \n",
    "    This program takes the number of grid points and the start and end point of the box as arguments and \n",
    "    returns a visualisation.\n",
    "    \"\"\"\n",
    "    \n",
    "    #make an x axis\n",
    "    x = make_xgrid(box_l-1.0,box_r+1.0,N)\n",
    "    #create a box potential on that axis\n",
    "    pot = potential(x,box_l, box_r, height)\n",
    "    #calculate Hamiltonian\n",
    "    H = create_H(x,pot)\n",
    "    #diagonalise Hamiltonian, solve for E and psi\n",
    "    E, psi = diagonalise_H(H)\n",
    "    #plot results\n",
    "    interact(plot_pib1d,x=fixed(x),pot=fixed(pot),E=fixed(E),psi=fixed(psi),n=range(1,21))   \n",
    "    \n",
    "    #If the function doesn't have a return value and simply executes a number of commands, \n",
    "    #we simply return the logical value true when everything ran smoothly to the end\n",
    "    return True"
   ]
  },
  {
   "cell_type": "code",
   "execution_count": null,
   "metadata": {
    "scrolled": true
   },
   "outputs": [],
   "source": [
    "#Let's give this program (function of functions) a test run\n",
    "\n",
    "#Number of grid points\n",
    "N = 2000\n",
    "box_l = 0.0\n",
    "box_r = 3.0\n",
    "height = 10000.0\n",
    "pib1d(N,box_l,box_r, height)\n",
    "#note how there is no x= pib1d. We don't HAVE to assign the output value of a function to a variable\n",
    "#runstate =pib1d(N,box_l,box_r, height) also works\n"
   ]
  },
  {
   "cell_type": "markdown",
   "metadata": {
    "collapsed": true
   },
   "source": [
    "## Let's play with it!"
   ]
  },
  {
   "cell_type": "markdown",
   "metadata": {
    "collapsed": true
   },
   "source": [
    "<div class=\"alert alert-block alert-info\">\n",
    "    \n",
    "**Tasks 7**  \n",
    "* What happens to the energies when you change the box size?\n",
    "* What happens when we reduce the height of the box to 10.0? Look at the density at the box edges! (The wave function is tunneling)\n",
    "<div/>"
   ]
  },
  {
   "cell_type": "code",
   "execution_count": null,
   "metadata": {},
   "outputs": [],
   "source": [
    "#TASK\n",
    "N =  #<INSERT VALUE>\n",
    "box_l =   #<INSERT VALUE>\n",
    "box_r =   #<INSERT VALUE>\n",
    "height =  #<INSERT VALUE>\n",
    "pib1d(N,box_l,box_r, height)"
   ]
  },
  {
   "cell_type": "markdown",
   "metadata": {},
   "source": [
    "## The power of reusable code - beyond the particle in a box"
   ]
  },
  {
   "cell_type": "markdown",
   "metadata": {
    "collapsed": true
   },
   "source": [
    "Because we wrote our code in such a general and reusable way, we can use it for other problems beyond the particle in a box. For example, we can simply switch the potential function to something else and describe that. Below, I supply a potential function for a harmonic potential and I changed a single line in the main code (```HO1D```) to calculate the **quantum mechanical harmonic oscillator**"
   ]
  },
  {
   "cell_type": "code",
   "execution_count": null,
   "metadata": {},
   "outputs": [],
   "source": [
    "#potential function\n",
    "def harmonic_potential(x, x0=2.5, k=10.):\n",
    "    \"\"\"\n",
    "    Function calculates harmonic potential on x-axis centred around x0 with spring constant k\n",
    "    \"\"\"\n",
    "    return 0.5*k*(x-x0)*(x-x0)\n",
    "\n",
    "\n",
    "#new main program where we replaced the potential\n",
    "def HO1D(N,box_l,box_r, k=10.0):\n",
    "        \n",
    "    x = make_xgrid(box_l-1.0,box_r+1.0,N)\n",
    "    ######ONLY THE FOLLOWING LINES ARE DIFFERENT\n",
    "    x0 = (box_l+box_r)/2  #define the centre of the harmonic oscillator in the middle of the box\n",
    "    pot = harmonic_potential(x, x0, k)\n",
    "    ######END OF DIFFERENCE##########\n",
    "    H = create_H(x,pot)\n",
    "    E, psi = diagonalise_H(H)\n",
    "    interact(plot_pib1d,x=fixed(x),pot=fixed(pot),E=fixed(E),psi=fixed(psi),n=range(1,21))   \n",
    "    \n",
    "    return True"
   ]
  },
  {
   "cell_type": "code",
   "execution_count": null,
   "metadata": {},
   "outputs": [],
   "source": [
    "#Number of grid points\n",
    "N = 200\n",
    "box_l = 0.0\n",
    "box_r = 5.0\n",
    "height = 10.0\n",
    "HO1D(N,box_l,box_r, height)"
   ]
  },
  {
   "cell_type": "markdown",
   "metadata": {},
   "source": [
    "<div class=\"alert alert-block alert-info\">\n",
    "    \n",
    "## Tasks\n",
    "* You can design your own potential functions to play around with this. For example, a box with a kink in the middle, or the Coulomb potential for a hydrogen atom in 1D.<br>\n",
    "<div/>"
   ]
  },
  {
   "cell_type": "code",
   "execution_count": null,
   "metadata": {},
   "outputs": [],
   "source": []
  }
 ],
 "metadata": {
  "kernelspec": {
   "display_name": "Python 3",
   "language": "python",
   "name": "python3"
  },
  "language_info": {
   "codemirror_mode": {
    "name": "ipython",
    "version": 3
   },
   "file_extension": ".py",
   "mimetype": "text/x-python",
   "name": "python",
   "nbconvert_exporter": "python",
   "pygments_lexer": "ipython3",
   "version": "3.7.4"
  }
 },
 "nbformat": 4,
 "nbformat_minor": 2
}
